{
 "cells": [
  {
   "cell_type": "code",
   "execution_count": 1,
   "id": "90f87a07",
   "metadata": {},
   "outputs": [],
   "source": [
    "import pandas as pd"
   ]
  },
  {
   "cell_type": "code",
   "execution_count": 2,
   "id": "03f78fe5",
   "metadata": {},
   "outputs": [
    {
     "name": "stdout",
     "output_type": "stream",
     "text": [
      "                                  Device ID\n",
      "0      6537D649-875B-4046-BF29-9A3F6B3A4D0A\n",
      "1      FD5BFE0A-C300-45AB-881E-094956EB7DE4\n",
      "2      1B071124-0B1C-4EE3-9340-EBFEE9E8DF85\n",
      "3      A6C756AE-486D-47AD-B0E0-3B6CB664CBE2\n",
      "4      262D4B8C-BF36-4077-9F91-3C622CA6D001\n",
      "...                                     ...\n",
      "94640  0008FDD7-1DBB-4395-BBD8-CD00BC488510\n",
      "94641  81F61781-425D-4E38-83B2-0A9BCEA576B6\n",
      "94642  88D85B5B-CBD3-4C35-9DFA-79C5D954181C\n",
      "94643  3D3C856E-41BB-4261-89DD-1ECA40060E61\n",
      "94644  2A1F2957-4F09-44B7-85A9-F509689CC0D3\n",
      "\n",
      "[94645 rows x 1 columns]\n"
     ]
    }
   ],
   "source": [
    "df = pd.read_csv('kochava_ids.csv')\n",
    "print(df)"
   ]
  },
  {
   "cell_type": "code",
   "execution_count": 5,
   "id": "62940edf",
   "metadata": {},
   "outputs": [],
   "source": [
    "import hashlib"
   ]
  },
  {
   "cell_type": "code",
   "execution_count": 6,
   "id": "224b9d79",
   "metadata": {},
   "outputs": [],
   "source": [
    "def generate_sha256(row):\n",
    "    row_string = ','.join([str(x) for x in row])  # Convert the row to a string\n",
    "    return hashlib.sha256(row_string.encode()).hexdigest()  # Generate SHA-256 hash"
   ]
  },
  {
   "cell_type": "code",
   "execution_count": 7,
   "id": "5439e3cb",
   "metadata": {},
   "outputs": [
    {
     "name": "stdout",
     "output_type": "stream",
     "text": [
      "                                  Device ID  \\\n",
      "0      6537D649-875B-4046-BF29-9A3F6B3A4D0A   \n",
      "1      FD5BFE0A-C300-45AB-881E-094956EB7DE4   \n",
      "2      1B071124-0B1C-4EE3-9340-EBFEE9E8DF85   \n",
      "3      A6C756AE-486D-47AD-B0E0-3B6CB664CBE2   \n",
      "4      262D4B8C-BF36-4077-9F91-3C622CA6D001   \n",
      "...                                     ...   \n",
      "94640  0008FDD7-1DBB-4395-BBD8-CD00BC488510   \n",
      "94641  81F61781-425D-4E38-83B2-0A9BCEA576B6   \n",
      "94642  88D85B5B-CBD3-4C35-9DFA-79C5D954181C   \n",
      "94643  3D3C856E-41BB-4261-89DD-1ECA40060E61   \n",
      "94644  2A1F2957-4F09-44B7-85A9-F509689CC0D3   \n",
      "\n",
      "                                            SHA-256 HASH  \n",
      "0      54634a7ee6e2ca9d4fe1149f77935f5af95909cdaf4b18...  \n",
      "1      c995a7154be566b41c51cf37419a4d0b3b05ab135f6c0a...  \n",
      "2      9d3119236d0910e28b3cbf42ad6d6e506ded5408a3d3e4...  \n",
      "3      cebf89275a2bd825c081ce78a943befba3936add2e6bde...  \n",
      "4      b3d906992cc75d8c6d82d0f0374468f62e641c99a9c9a9...  \n",
      "...                                                  ...  \n",
      "94640  9109c3278f0a7011ac5dade658aa139678703beffd775d...  \n",
      "94641  691d53be63c83f962fee07f9e9e0e8c3b3341daec36aed...  \n",
      "94642  7fc78f384de3f3fba6d1ae1f6e67ec7d330df74f577d33...  \n",
      "94643  970154bab9cbb410d684c3d65b1303d00ddcdad7560c21...  \n",
      "94644  e2be2a1ebadeaac4b59be5dc0f0d0aba972c743cf5d44b...  \n",
      "\n",
      "[94645 rows x 2 columns]\n"
     ]
    }
   ],
   "source": [
    "df['SHA-256 HASH'] = df.apply(generate_sha256, axis=1)\n",
    "print(df)"
   ]
  },
  {
   "cell_type": "code",
   "execution_count": 10,
   "id": "682e57a6",
   "metadata": {},
   "outputs": [],
   "source": [
    "output_file = df.to_csv('kochava_ids_test.csv', index=False)"
   ]
  },
  {
   "cell_type": "code",
   "execution_count": null,
   "id": "b855b9ce",
   "metadata": {},
   "outputs": [],
   "source": []
  }
 ],
 "metadata": {
  "kernelspec": {
   "display_name": "Python 3 (ipykernel)",
   "language": "python",
   "name": "python3"
  },
  "language_info": {
   "codemirror_mode": {
    "name": "ipython",
    "version": 3
   },
   "file_extension": ".py",
   "mimetype": "text/x-python",
   "name": "python",
   "nbconvert_exporter": "python",
   "pygments_lexer": "ipython3",
   "version": "3.10.9"
  }
 },
 "nbformat": 4,
 "nbformat_minor": 5
}
